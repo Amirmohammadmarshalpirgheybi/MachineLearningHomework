{
 "cells": [
  {
   "cell_type": "markdown",
   "metadata": {
    "id": "9CFNN5Ms51un"
   },
   "source": [
    "<h1 align=\"center\">An Introduction to Machine Learning - 25737</h1>\n",
    "<h4 align=\"center\">Dr. Sajjad Amini</h4>\n",
    "<h4 align=\"center\">Sharif University of Technology, Spring 2023</h4>\n",
    "\n",
    "# Problem Set 02\n",
    "\n",
    "Welcome to your second assignment. This exercise gives you a brief introduction to Python. \n"
   ]
  },
  {
   "cell_type": "markdown",
   "metadata": {
    "id": "otVWavun6BLM"
   },
   "source": [
    "STUDENT NAME: Amirmohammad Marshalpirgheybi\n",
    "\n",
    "STUDENT ID:"
   ]
  },
  {
   "cell_type": "markdown",
   "metadata": {
    "id": "ZmfUgXgE51uo"
   },
   "source": [
    "## Import \n",
    ">Put all of your imports for this file in the below cell."
   ]
  },
  {
   "cell_type": "code",
   "execution_count": 116,
   "metadata": {
    "id": "PKyVIvPF51uo"
   },
   "outputs": [],
   "source": [
    "### START CODE HERE ###\n",
    "import numpy as np\n",
    "import pandas as pd\n",
    "import matplotlib.pyplot as plt\n",
    "### END CODE HERE ###"
   ]
  },
  {
   "cell_type": "markdown",
   "metadata": {
    "id": "TK-ZIy9Z51up"
   },
   "source": [
    "# Question 1"
   ]
  },
  {
   "cell_type": "markdown",
   "metadata": {
    "id": "xATpgtcD51up"
   },
   "source": [
    "## Array creation\n",
    ">Create the followings to numpy array:\n",
    "* A: a 3\\*3 array like this:\n",
    "$$\n",
    "A = \\left(\\begin{array}{cc} \n",
    "10 & 20 & 30\\\\\n",
    "5 & 10 & 15\\\\\n",
    "1 & 5 & 8\n",
    "\\end{array}\\right)\n",
    "$$ \n",
    "* B: a 3\\*3\\*4 that filled with the numbers start from 15 and have steps of 5 to the end. The array should be filled first along the first dimension then the second dimension and at last the third dimension. like this:\n",
    "$$\n",
    "B[:, :, 0] = \\left(\\begin{array}{cc} \n",
    "15 & 30 & 45\\\\\n",
    "20 & 35 & 50\\\\\n",
    "25 & 40 & 55\n",
    "\\end{array}\\right)\n",
    "$$ "
   ]
  },
  {
   "cell_type": "code",
   "execution_count": 19,
   "metadata": {
    "id": "TjIs628Y51up"
   },
   "outputs": [
    {
     "name": "stdout",
     "output_type": "stream",
     "text": [
      "[[10 20 30]\n",
      " [ 5 10 15]\n",
      " [ 1  5  8]]\n",
      "[[15. 30. 45.]\n",
      " [20. 35. 50.]\n",
      " [25. 40. 55.]]\n"
     ]
    }
   ],
   "source": [
    "### START CODE HERE ###\n",
    "A = np.array([[10,20,30],[5,10,15],[1,5,8]])\n",
    "print(A)\n",
    "B = np.zeros((3,3,4))\n",
    "for i in range(3):\n",
    "    for j in range(3):\n",
    "        for k in range(4):\n",
    "            B[i,j,k] = i*5+j*15+k*45+15\n",
    "print(B[:,:,0])\n",
    "### END CODE HERE ###"
   ]
  },
  {
   "cell_type": "markdown",
   "metadata": {
    "id": "FnkUQTNY51up"
   },
   "source": [
    "## Replacement\n",
    ">Replace the last slice of array B (B[:, :, 3]) with values of A. Then print the result."
   ]
  },
  {
   "cell_type": "code",
   "execution_count": 20,
   "metadata": {
    "id": "P8VC57_o51uq"
   },
   "outputs": [
    {
     "name": "stdout",
     "output_type": "stream",
     "text": [
      "[[10. 20. 30.]\n",
      " [ 5. 10. 15.]\n",
      " [ 1.  5.  8.]]\n"
     ]
    }
   ],
   "source": [
    "### START CODE HERE ###\n",
    "B[:,:,3] = A\n",
    "print(B[:,:,3])\n",
    "### END CODE HERE ###"
   ]
  },
  {
   "cell_type": "markdown",
   "metadata": {
    "id": "nZs4P5AZ51uq"
   },
   "source": [
    "## Axis Swap \n",
    ">Swap the first(B[:, :, 0]) and last(B[:, :, 3]) slice of the array B **only with one line of code**. Then print the result."
   ]
  },
  {
   "cell_type": "code",
   "execution_count": 21,
   "metadata": {
    "id": "WmS33bBl51uq"
   },
   "outputs": [
    {
     "name": "stdout",
     "output_type": "stream",
     "text": [
      "[[10. 20. 30.]\n",
      " [ 5. 10. 15.]\n",
      " [ 1.  5.  8.]]\n",
      "[[15. 30. 45.]\n",
      " [20. 35. 50.]\n",
      " [25. 40. 55.]]\n"
     ]
    }
   ],
   "source": [
    "### START CODE HERE ###\n",
    "B[:,:,np.array([0, 3])] = B[:,:,np.array([3,0])]\n",
    "print(B[:,:,0])\n",
    "print(B[:,:,3])\n",
    "### END CODE HERE ###"
   ]
  },
  {
   "cell_type": "markdown",
   "metadata": {
    "id": "220LTscL51uq"
   },
   "source": [
    "## Transposing \n",
    ">Transpose the array B elements in each slice. Then print the result."
   ]
  },
  {
   "cell_type": "code",
   "execution_count": 27,
   "metadata": {
    "id": "aNMAlnaC51uq"
   },
   "outputs": [
    {
     "name": "stdout",
     "output_type": "stream",
     "text": [
      "[[10.  5.  1.]\n",
      " [20. 10.  5.]\n",
      " [30. 15.  8.]]\n",
      "[[ 60.  65.  70.]\n",
      " [ 75.  80.  85.]\n",
      " [ 90.  95. 100.]]\n",
      "[[105. 110. 115.]\n",
      " [120. 125. 130.]\n",
      " [135. 140. 145.]]\n",
      "[[15. 20. 25.]\n",
      " [30. 35. 40.]\n",
      " [45. 50. 55.]]\n"
     ]
    }
   ],
   "source": [
    "### START CODE HERE ###\n",
    "for i in range(B.shape[2]):\n",
    "    B[:,:,i] = B[:,:,i].T\n",
    "    print(B[:,:,i])\n",
    "### END CODE HERE ###"
   ]
  },
  {
   "cell_type": "markdown",
   "metadata": {
    "id": "xYFuQ6_H51uq"
   },
   "source": [
    "## Matrix Multiplication\n",
    ">Calculate the matrix multiplication of all slices of the array B. \n",
    "(B[:, :, 0] \\* B[:, :, 1] \\* B[:, :, 2] \\* B[:, :, 3]). Then print the result.\n",
    "\n",
    ">**Note**: the result should be a 3\\*3 array. "
   ]
  },
  {
   "cell_type": "code",
   "execution_count": 29,
   "metadata": {
    "id": "HfQRENtP51uq"
   },
   "outputs": [
    {
     "name": "stdout",
     "output_type": "stream",
     "text": [
      "[[3.93750000e+07 4.58516250e+07 5.23282500e+07]\n",
      " [8.85375000e+07 1.03100625e+08 1.17663750e+08]\n",
      " [1.34437500e+08 1.56550500e+08 1.78663500e+08]]\n"
     ]
    }
   ],
   "source": [
    "### START CODE HERE ###\n",
    "C = B[:,:,0]\n",
    "for i in range(1,B.shape[2]):\n",
    "    C = C@B[:,:,i]\n",
    "print(C)\n",
    "### END CODE HERE ###"
   ]
  },
  {
   "cell_type": "markdown",
   "metadata": {
    "id": "T-aKILXl51uq"
   },
   "source": [
    "## Determinant\n",
    ">Calculate the determinant of the array A and print it."
   ]
  },
  {
   "cell_type": "code",
   "execution_count": 34,
   "metadata": {
    "id": "IuIyFxIb51ur"
   },
   "outputs": [
    {
     "name": "stdout",
     "output_type": "stream",
     "text": [
      "0.0\n"
     ]
    }
   ],
   "source": [
    "### START CODE HERE ###\n",
    "det_A = np.linalg.det(A)\n",
    "print(det_A)\n",
    "### END CODE HERE ###"
   ]
  },
  {
   "cell_type": "markdown",
   "metadata": {
    "id": "dUxqZ--i51ur"
   },
   "source": [
    "# Question 2"
   ]
  },
  {
   "cell_type": "markdown",
   "metadata": {
    "id": "tVorf1Zj51ur"
   },
   "source": [
    "## Loading dataset\n",
    ">Load the IMDB-Movie-Data.csv file into a pandas dataframe and show its first 5 rows. Each row of this dataframe corresponds to one film."
   ]
  },
  {
   "cell_type": "code",
   "execution_count": 100,
   "metadata": {
    "id": "dIsa36yi51ur"
   },
   "outputs": [
    {
     "data": {
      "text/html": [
       "<div>\n",
       "<style scoped>\n",
       "    .dataframe tbody tr th:only-of-type {\n",
       "        vertical-align: middle;\n",
       "    }\n",
       "\n",
       "    .dataframe tbody tr th {\n",
       "        vertical-align: top;\n",
       "    }\n",
       "\n",
       "    .dataframe thead th {\n",
       "        text-align: right;\n",
       "    }\n",
       "</style>\n",
       "<table border=\"1\" class=\"dataframe\">\n",
       "  <thead>\n",
       "    <tr style=\"text-align: right;\">\n",
       "      <th></th>\n",
       "      <th>Rank</th>\n",
       "      <th>Title</th>\n",
       "      <th>Genre</th>\n",
       "      <th>Description</th>\n",
       "      <th>Director</th>\n",
       "      <th>Actors</th>\n",
       "      <th>Year</th>\n",
       "      <th>Runtime (Minutes)</th>\n",
       "      <th>Rating</th>\n",
       "      <th>Votes</th>\n",
       "      <th>Revenue (Millions)</th>\n",
       "      <th>Metascore</th>\n",
       "    </tr>\n",
       "  </thead>\n",
       "  <tbody>\n",
       "    <tr>\n",
       "      <th>0</th>\n",
       "      <td>1</td>\n",
       "      <td>Guardians of the Galaxy</td>\n",
       "      <td>Action,Adventure,Sci-Fi</td>\n",
       "      <td>A group of intergalactic criminals are forced ...</td>\n",
       "      <td>James Gunn</td>\n",
       "      <td>Chris Pratt, Vin Diesel, Bradley Cooper, Zoe S...</td>\n",
       "      <td>2014</td>\n",
       "      <td>121</td>\n",
       "      <td>8.1</td>\n",
       "      <td>757074</td>\n",
       "      <td>333.13</td>\n",
       "      <td>76.0</td>\n",
       "    </tr>\n",
       "    <tr>\n",
       "      <th>1</th>\n",
       "      <td>2</td>\n",
       "      <td>Prometheus</td>\n",
       "      <td>Adventure,Mystery,Sci-Fi</td>\n",
       "      <td>Following clues to the origin of mankind, a te...</td>\n",
       "      <td>Ridley Scott</td>\n",
       "      <td>Noomi Rapace, Logan Marshall-Green, Michael Fa...</td>\n",
       "      <td>2012</td>\n",
       "      <td>124</td>\n",
       "      <td>7.0</td>\n",
       "      <td>485820</td>\n",
       "      <td>126.46</td>\n",
       "      <td>65.0</td>\n",
       "    </tr>\n",
       "    <tr>\n",
       "      <th>2</th>\n",
       "      <td>3</td>\n",
       "      <td>Split</td>\n",
       "      <td>Horror,Thriller</td>\n",
       "      <td>Three girls are kidnapped by a man with a diag...</td>\n",
       "      <td>M. Night Shyamalan</td>\n",
       "      <td>James McAvoy, Anya Taylor-Joy, Haley Lu Richar...</td>\n",
       "      <td>2016</td>\n",
       "      <td>117</td>\n",
       "      <td>7.3</td>\n",
       "      <td>157606</td>\n",
       "      <td>138.12</td>\n",
       "      <td>62.0</td>\n",
       "    </tr>\n",
       "    <tr>\n",
       "      <th>3</th>\n",
       "      <td>4</td>\n",
       "      <td>Sing</td>\n",
       "      <td>Animation,Comedy,Family</td>\n",
       "      <td>In a city of humanoid animals, a hustling thea...</td>\n",
       "      <td>Christophe Lourdelet</td>\n",
       "      <td>Matthew McConaughey,Reese Witherspoon, Seth Ma...</td>\n",
       "      <td>2016</td>\n",
       "      <td>108</td>\n",
       "      <td>7.2</td>\n",
       "      <td>60545</td>\n",
       "      <td>270.32</td>\n",
       "      <td>59.0</td>\n",
       "    </tr>\n",
       "    <tr>\n",
       "      <th>4</th>\n",
       "      <td>5</td>\n",
       "      <td>Suicide Squad</td>\n",
       "      <td>Action,Adventure,Fantasy</td>\n",
       "      <td>A secret government agency recruits some of th...</td>\n",
       "      <td>David Ayer</td>\n",
       "      <td>Will Smith, Jared Leto, Margot Robbie, Viola D...</td>\n",
       "      <td>2016</td>\n",
       "      <td>123</td>\n",
       "      <td>6.2</td>\n",
       "      <td>393727</td>\n",
       "      <td>325.02</td>\n",
       "      <td>40.0</td>\n",
       "    </tr>\n",
       "    <tr>\n",
       "      <th>5</th>\n",
       "      <td>6</td>\n",
       "      <td>The Great Wall</td>\n",
       "      <td>Action,Adventure,Fantasy</td>\n",
       "      <td>European mercenaries searching for black powde...</td>\n",
       "      <td>Yimou Zhang</td>\n",
       "      <td>Matt Damon, Tian Jing, Willem Dafoe, Andy Lau</td>\n",
       "      <td>2016</td>\n",
       "      <td>103</td>\n",
       "      <td>6.1</td>\n",
       "      <td>56036</td>\n",
       "      <td>45.13</td>\n",
       "      <td>42.0</td>\n",
       "    </tr>\n",
       "    <tr>\n",
       "      <th>6</th>\n",
       "      <td>7</td>\n",
       "      <td>La La Land</td>\n",
       "      <td>Comedy,Drama,Music</td>\n",
       "      <td>A jazz pianist falls for an aspiring actress i...</td>\n",
       "      <td>Damien Chazelle</td>\n",
       "      <td>Ryan Gosling, Emma Stone, Rosemarie DeWitt, J....</td>\n",
       "      <td>2016</td>\n",
       "      <td>128</td>\n",
       "      <td>8.3</td>\n",
       "      <td>258682</td>\n",
       "      <td>151.06</td>\n",
       "      <td>93.0</td>\n",
       "    </tr>\n",
       "    <tr>\n",
       "      <th>7</th>\n",
       "      <td>8</td>\n",
       "      <td>Mindhorn</td>\n",
       "      <td>Comedy</td>\n",
       "      <td>A has-been actor best known for playing the ti...</td>\n",
       "      <td>Sean Foley</td>\n",
       "      <td>Essie Davis, Andrea Riseborough, Julian Barrat...</td>\n",
       "      <td>2016</td>\n",
       "      <td>89</td>\n",
       "      <td>6.4</td>\n",
       "      <td>2490</td>\n",
       "      <td>NaN</td>\n",
       "      <td>71.0</td>\n",
       "    </tr>\n",
       "    <tr>\n",
       "      <th>8</th>\n",
       "      <td>9</td>\n",
       "      <td>The Lost City of Z</td>\n",
       "      <td>Action,Adventure,Biography</td>\n",
       "      <td>A true-life drama, centering on British explor...</td>\n",
       "      <td>James Gray</td>\n",
       "      <td>Charlie Hunnam, Robert Pattinson, Sienna Mille...</td>\n",
       "      <td>2016</td>\n",
       "      <td>141</td>\n",
       "      <td>7.1</td>\n",
       "      <td>7188</td>\n",
       "      <td>8.01</td>\n",
       "      <td>78.0</td>\n",
       "    </tr>\n",
       "    <tr>\n",
       "      <th>9</th>\n",
       "      <td>10</td>\n",
       "      <td>Passengers</td>\n",
       "      <td>Adventure,Drama,Romance</td>\n",
       "      <td>A spacecraft traveling to a distant colony pla...</td>\n",
       "      <td>Morten Tyldum</td>\n",
       "      <td>Jennifer Lawrence, Chris Pratt, Michael Sheen,...</td>\n",
       "      <td>2016</td>\n",
       "      <td>116</td>\n",
       "      <td>7.0</td>\n",
       "      <td>192177</td>\n",
       "      <td>100.01</td>\n",
       "      <td>41.0</td>\n",
       "    </tr>\n",
       "    <tr>\n",
       "      <th>10</th>\n",
       "      <td>11</td>\n",
       "      <td>Fantastic Beasts and Where to Find Them</td>\n",
       "      <td>Adventure,Family,Fantasy</td>\n",
       "      <td>The adventures of writer Newt Scamander in New...</td>\n",
       "      <td>David Yates</td>\n",
       "      <td>Eddie Redmayne, Katherine Waterston, Alison Su...</td>\n",
       "      <td>2016</td>\n",
       "      <td>133</td>\n",
       "      <td>7.5</td>\n",
       "      <td>232072</td>\n",
       "      <td>234.02</td>\n",
       "      <td>66.0</td>\n",
       "    </tr>\n",
       "    <tr>\n",
       "      <th>11</th>\n",
       "      <td>12</td>\n",
       "      <td>Hidden Figures</td>\n",
       "      <td>Biography,Drama,History</td>\n",
       "      <td>The story of a team of female African-American...</td>\n",
       "      <td>Theodore Melfi</td>\n",
       "      <td>Taraji P. Henson, Octavia Spencer, Janelle Mon...</td>\n",
       "      <td>2016</td>\n",
       "      <td>127</td>\n",
       "      <td>7.8</td>\n",
       "      <td>93103</td>\n",
       "      <td>169.27</td>\n",
       "      <td>74.0</td>\n",
       "    </tr>\n",
       "    <tr>\n",
       "      <th>12</th>\n",
       "      <td>13</td>\n",
       "      <td>Rogue One</td>\n",
       "      <td>Action,Adventure,Sci-Fi</td>\n",
       "      <td>The Rebel Alliance makes a risky move to steal...</td>\n",
       "      <td>Gareth Edwards</td>\n",
       "      <td>Felicity Jones, Diego Luna, Alan Tudyk, Donnie...</td>\n",
       "      <td>2016</td>\n",
       "      <td>133</td>\n",
       "      <td>7.9</td>\n",
       "      <td>323118</td>\n",
       "      <td>532.17</td>\n",
       "      <td>65.0</td>\n",
       "    </tr>\n",
       "    <tr>\n",
       "      <th>13</th>\n",
       "      <td>14</td>\n",
       "      <td>Moana</td>\n",
       "      <td>Animation,Adventure,Comedy</td>\n",
       "      <td>In Ancient Polynesia, when a terrible curse in...</td>\n",
       "      <td>Ron Clements</td>\n",
       "      <td>Auli'i Cravalho, Dwayne Johnson, Rachel House,...</td>\n",
       "      <td>2016</td>\n",
       "      <td>107</td>\n",
       "      <td>7.7</td>\n",
       "      <td>118151</td>\n",
       "      <td>248.75</td>\n",
       "      <td>81.0</td>\n",
       "    </tr>\n",
       "    <tr>\n",
       "      <th>14</th>\n",
       "      <td>15</td>\n",
       "      <td>Colossal</td>\n",
       "      <td>Action,Comedy,Drama</td>\n",
       "      <td>Gloria is an out-of-work party girl forced to ...</td>\n",
       "      <td>Nacho Vigalondo</td>\n",
       "      <td>Anne Hathaway, Jason Sudeikis, Austin Stowell,...</td>\n",
       "      <td>2016</td>\n",
       "      <td>109</td>\n",
       "      <td>6.4</td>\n",
       "      <td>8612</td>\n",
       "      <td>2.87</td>\n",
       "      <td>70.0</td>\n",
       "    </tr>\n",
       "    <tr>\n",
       "      <th>15</th>\n",
       "      <td>16</td>\n",
       "      <td>The Secret Life of Pets</td>\n",
       "      <td>Animation,Adventure,Comedy</td>\n",
       "      <td>The quiet life of a terrier named Max is upend...</td>\n",
       "      <td>Chris Renaud</td>\n",
       "      <td>Louis C.K., Eric Stonestreet, Kevin Hart, Lake...</td>\n",
       "      <td>2016</td>\n",
       "      <td>87</td>\n",
       "      <td>6.6</td>\n",
       "      <td>120259</td>\n",
       "      <td>368.31</td>\n",
       "      <td>61.0</td>\n",
       "    </tr>\n",
       "    <tr>\n",
       "      <th>16</th>\n",
       "      <td>17</td>\n",
       "      <td>Hacksaw Ridge</td>\n",
       "      <td>Biography,Drama,History</td>\n",
       "      <td>WWII American Army Medic Desmond T. Doss, who ...</td>\n",
       "      <td>Mel Gibson</td>\n",
       "      <td>Andrew Garfield, Sam Worthington, Luke Bracey,...</td>\n",
       "      <td>2016</td>\n",
       "      <td>139</td>\n",
       "      <td>8.2</td>\n",
       "      <td>211760</td>\n",
       "      <td>67.12</td>\n",
       "      <td>71.0</td>\n",
       "    </tr>\n",
       "    <tr>\n",
       "      <th>17</th>\n",
       "      <td>18</td>\n",
       "      <td>Jason Bourne</td>\n",
       "      <td>Action,Thriller</td>\n",
       "      <td>The CIA's most dangerous former operative is d...</td>\n",
       "      <td>Paul Greengrass</td>\n",
       "      <td>Matt Damon, Tommy Lee Jones, Alicia Vikander,V...</td>\n",
       "      <td>2016</td>\n",
       "      <td>123</td>\n",
       "      <td>6.7</td>\n",
       "      <td>150823</td>\n",
       "      <td>162.16</td>\n",
       "      <td>58.0</td>\n",
       "    </tr>\n",
       "    <tr>\n",
       "      <th>18</th>\n",
       "      <td>19</td>\n",
       "      <td>Lion</td>\n",
       "      <td>Biography,Drama</td>\n",
       "      <td>A five-year-old Indian boy gets lost on the st...</td>\n",
       "      <td>Garth Davis</td>\n",
       "      <td>Dev Patel, Nicole Kidman, Rooney Mara, Sunny P...</td>\n",
       "      <td>2016</td>\n",
       "      <td>118</td>\n",
       "      <td>8.1</td>\n",
       "      <td>102061</td>\n",
       "      <td>51.69</td>\n",
       "      <td>69.0</td>\n",
       "    </tr>\n",
       "    <tr>\n",
       "      <th>19</th>\n",
       "      <td>20</td>\n",
       "      <td>Arrival</td>\n",
       "      <td>Drama,Mystery,Sci-Fi</td>\n",
       "      <td>When twelve mysterious spacecraft appear aroun...</td>\n",
       "      <td>Denis Villeneuve</td>\n",
       "      <td>Amy Adams, Jeremy Renner, Forest Whitaker,Mich...</td>\n",
       "      <td>2016</td>\n",
       "      <td>116</td>\n",
       "      <td>8.0</td>\n",
       "      <td>340798</td>\n",
       "      <td>100.50</td>\n",
       "      <td>81.0</td>\n",
       "    </tr>\n",
       "    <tr>\n",
       "      <th>20</th>\n",
       "      <td>21</td>\n",
       "      <td>Gold</td>\n",
       "      <td>Adventure,Drama,Thriller</td>\n",
       "      <td>Kenny Wells, a prospector desperate for a luck...</td>\n",
       "      <td>Stephen Gaghan</td>\n",
       "      <td>Matthew McConaughey, Edgar Ramírez, Bryce Dall...</td>\n",
       "      <td>2016</td>\n",
       "      <td>120</td>\n",
       "      <td>6.7</td>\n",
       "      <td>19053</td>\n",
       "      <td>7.22</td>\n",
       "      <td>49.0</td>\n",
       "    </tr>\n",
       "    <tr>\n",
       "      <th>21</th>\n",
       "      <td>22</td>\n",
       "      <td>Manchester by the Sea</td>\n",
       "      <td>Drama</td>\n",
       "      <td>A depressed uncle is asked to take care of his...</td>\n",
       "      <td>Kenneth Lonergan</td>\n",
       "      <td>Casey Affleck, Michelle Williams, Kyle Chandle...</td>\n",
       "      <td>2016</td>\n",
       "      <td>137</td>\n",
       "      <td>7.9</td>\n",
       "      <td>134213</td>\n",
       "      <td>47.70</td>\n",
       "      <td>96.0</td>\n",
       "    </tr>\n",
       "    <tr>\n",
       "      <th>22</th>\n",
       "      <td>23</td>\n",
       "      <td>Hounds of Love</td>\n",
       "      <td>Crime,Drama,Horror</td>\n",
       "      <td>A cold-blooded predatory couple while cruising...</td>\n",
       "      <td>Ben Young</td>\n",
       "      <td>Emma Booth, Ashleigh Cummings, Stephen Curry,S...</td>\n",
       "      <td>2016</td>\n",
       "      <td>108</td>\n",
       "      <td>6.7</td>\n",
       "      <td>1115</td>\n",
       "      <td>NaN</td>\n",
       "      <td>72.0</td>\n",
       "    </tr>\n",
       "    <tr>\n",
       "      <th>23</th>\n",
       "      <td>24</td>\n",
       "      <td>Trolls</td>\n",
       "      <td>Animation,Adventure,Comedy</td>\n",
       "      <td>After the Bergens invade Troll Village, Poppy,...</td>\n",
       "      <td>Walt Dohrn</td>\n",
       "      <td>Anna Kendrick, Justin Timberlake,Zooey Deschan...</td>\n",
       "      <td>2016</td>\n",
       "      <td>92</td>\n",
       "      <td>6.5</td>\n",
       "      <td>38552</td>\n",
       "      <td>153.69</td>\n",
       "      <td>56.0</td>\n",
       "    </tr>\n",
       "    <tr>\n",
       "      <th>24</th>\n",
       "      <td>25</td>\n",
       "      <td>Independence Day: Resurgence</td>\n",
       "      <td>Action,Adventure,Sci-Fi</td>\n",
       "      <td>Two decades after the first Independence Day i...</td>\n",
       "      <td>Roland Emmerich</td>\n",
       "      <td>Liam Hemsworth, Jeff Goldblum, Bill Pullman,Ma...</td>\n",
       "      <td>2016</td>\n",
       "      <td>120</td>\n",
       "      <td>5.3</td>\n",
       "      <td>127553</td>\n",
       "      <td>103.14</td>\n",
       "      <td>32.0</td>\n",
       "    </tr>\n",
       "    <tr>\n",
       "      <th>25</th>\n",
       "      <td>26</td>\n",
       "      <td>Paris pieds nus</td>\n",
       "      <td>Comedy</td>\n",
       "      <td>Fiona visits Paris for the first time to assis...</td>\n",
       "      <td>Dominique Abel</td>\n",
       "      <td>Fiona Gordon, Dominique Abel,Emmanuelle Riva, ...</td>\n",
       "      <td>2016</td>\n",
       "      <td>83</td>\n",
       "      <td>6.8</td>\n",
       "      <td>222</td>\n",
       "      <td>NaN</td>\n",
       "      <td>NaN</td>\n",
       "    </tr>\n",
       "    <tr>\n",
       "      <th>26</th>\n",
       "      <td>27</td>\n",
       "      <td>Bahubali: The Beginning</td>\n",
       "      <td>Action,Adventure,Drama</td>\n",
       "      <td>In ancient India, an adventurous and daring ma...</td>\n",
       "      <td>S.S. Rajamouli</td>\n",
       "      <td>Prabhas, Rana Daggubati, Anushka Shetty,Tamann...</td>\n",
       "      <td>2015</td>\n",
       "      <td>159</td>\n",
       "      <td>8.3</td>\n",
       "      <td>76193</td>\n",
       "      <td>6.50</td>\n",
       "      <td>NaN</td>\n",
       "    </tr>\n",
       "    <tr>\n",
       "      <th>27</th>\n",
       "      <td>28</td>\n",
       "      <td>Dead Awake</td>\n",
       "      <td>Horror,Thriller</td>\n",
       "      <td>A young woman must save herself and her friend...</td>\n",
       "      <td>Phillip Guzman</td>\n",
       "      <td>Jocelin Donahue, Jesse Bradford, Jesse Borrego...</td>\n",
       "      <td>2016</td>\n",
       "      <td>99</td>\n",
       "      <td>4.7</td>\n",
       "      <td>523</td>\n",
       "      <td>0.01</td>\n",
       "      <td>NaN</td>\n",
       "    </tr>\n",
       "    <tr>\n",
       "      <th>28</th>\n",
       "      <td>29</td>\n",
       "      <td>Bad Moms</td>\n",
       "      <td>Comedy</td>\n",
       "      <td>When three overworked and under-appreciated mo...</td>\n",
       "      <td>Jon Lucas</td>\n",
       "      <td>Mila Kunis, Kathryn Hahn, Kristen Bell,Christi...</td>\n",
       "      <td>2016</td>\n",
       "      <td>100</td>\n",
       "      <td>6.2</td>\n",
       "      <td>66540</td>\n",
       "      <td>113.08</td>\n",
       "      <td>60.0</td>\n",
       "    </tr>\n",
       "    <tr>\n",
       "      <th>29</th>\n",
       "      <td>30</td>\n",
       "      <td>Assassin's Creed</td>\n",
       "      <td>Action,Adventure,Drama</td>\n",
       "      <td>When Callum Lynch explores the memories of his...</td>\n",
       "      <td>Justin Kurzel</td>\n",
       "      <td>Michael Fassbender, Marion Cotillard, Jeremy I...</td>\n",
       "      <td>2016</td>\n",
       "      <td>115</td>\n",
       "      <td>5.9</td>\n",
       "      <td>112813</td>\n",
       "      <td>54.65</td>\n",
       "      <td>36.0</td>\n",
       "    </tr>\n",
       "    <tr>\n",
       "      <th>30</th>\n",
       "      <td>31</td>\n",
       "      <td>Why Him?</td>\n",
       "      <td>Comedy</td>\n",
       "      <td>A holiday gathering threatens to go off the ra...</td>\n",
       "      <td>John Hamburg</td>\n",
       "      <td>Zoey Deutch, James Franco, Tangie Ambrose,Cedr...</td>\n",
       "      <td>2016</td>\n",
       "      <td>111</td>\n",
       "      <td>6.3</td>\n",
       "      <td>48123</td>\n",
       "      <td>60.31</td>\n",
       "      <td>39.0</td>\n",
       "    </tr>\n",
       "    <tr>\n",
       "      <th>31</th>\n",
       "      <td>32</td>\n",
       "      <td>Nocturnal Animals</td>\n",
       "      <td>Drama,Thriller</td>\n",
       "      <td>A wealthy art gallery owner is haunted by her ...</td>\n",
       "      <td>Tom Ford</td>\n",
       "      <td>Amy Adams, Jake Gyllenhaal, Michael Shannon, A...</td>\n",
       "      <td>2016</td>\n",
       "      <td>116</td>\n",
       "      <td>7.5</td>\n",
       "      <td>126030</td>\n",
       "      <td>10.64</td>\n",
       "      <td>67.0</td>\n",
       "    </tr>\n",
       "    <tr>\n",
       "      <th>32</th>\n",
       "      <td>33</td>\n",
       "      <td>X-Men: Apocalypse</td>\n",
       "      <td>Action,Adventure,Sci-Fi</td>\n",
       "      <td>After the re-emergence of the world's first mu...</td>\n",
       "      <td>Bryan Singer</td>\n",
       "      <td>James McAvoy, Michael Fassbender, Jennifer Law...</td>\n",
       "      <td>2016</td>\n",
       "      <td>144</td>\n",
       "      <td>7.1</td>\n",
       "      <td>275510</td>\n",
       "      <td>155.33</td>\n",
       "      <td>52.0</td>\n",
       "    </tr>\n",
       "    <tr>\n",
       "      <th>33</th>\n",
       "      <td>34</td>\n",
       "      <td>Deadpool</td>\n",
       "      <td>Action,Adventure,Comedy</td>\n",
       "      <td>A fast-talking mercenary with a morbid sense o...</td>\n",
       "      <td>Tim Miller</td>\n",
       "      <td>Ryan Reynolds, Morena Baccarin, T.J. Miller, E...</td>\n",
       "      <td>2016</td>\n",
       "      <td>108</td>\n",
       "      <td>8.0</td>\n",
       "      <td>627797</td>\n",
       "      <td>363.02</td>\n",
       "      <td>65.0</td>\n",
       "    </tr>\n",
       "    <tr>\n",
       "      <th>34</th>\n",
       "      <td>35</td>\n",
       "      <td>Resident Evil: The Final Chapter</td>\n",
       "      <td>Action,Horror,Sci-Fi</td>\n",
       "      <td>Alice returns to where the nightmare began: Th...</td>\n",
       "      <td>Paul W.S. Anderson</td>\n",
       "      <td>Milla Jovovich, Iain Glen, Ali Larter, Shawn R...</td>\n",
       "      <td>2016</td>\n",
       "      <td>107</td>\n",
       "      <td>5.6</td>\n",
       "      <td>46165</td>\n",
       "      <td>26.84</td>\n",
       "      <td>49.0</td>\n",
       "    </tr>\n",
       "    <tr>\n",
       "      <th>35</th>\n",
       "      <td>36</td>\n",
       "      <td>Captain America: Civil War</td>\n",
       "      <td>Action,Adventure,Sci-Fi</td>\n",
       "      <td>Political interference in the Avengers' activi...</td>\n",
       "      <td>Anthony Russo</td>\n",
       "      <td>Chris Evans, Robert Downey Jr.,Scarlett Johans...</td>\n",
       "      <td>2016</td>\n",
       "      <td>147</td>\n",
       "      <td>7.9</td>\n",
       "      <td>411656</td>\n",
       "      <td>408.08</td>\n",
       "      <td>75.0</td>\n",
       "    </tr>\n",
       "    <tr>\n",
       "      <th>36</th>\n",
       "      <td>37</td>\n",
       "      <td>Interstellar</td>\n",
       "      <td>Adventure,Drama,Sci-Fi</td>\n",
       "      <td>A team of explorers travel through a wormhole ...</td>\n",
       "      <td>Christopher Nolan</td>\n",
       "      <td>Matthew McConaughey, Anne Hathaway, Jessica Ch...</td>\n",
       "      <td>2014</td>\n",
       "      <td>169</td>\n",
       "      <td>8.6</td>\n",
       "      <td>1047747</td>\n",
       "      <td>187.99</td>\n",
       "      <td>74.0</td>\n",
       "    </tr>\n",
       "    <tr>\n",
       "      <th>37</th>\n",
       "      <td>38</td>\n",
       "      <td>Doctor Strange</td>\n",
       "      <td>Action,Adventure,Fantasy</td>\n",
       "      <td>While on a journey of physical and spiritual h...</td>\n",
       "      <td>Scott Derrickson</td>\n",
       "      <td>Benedict Cumberbatch, Chiwetel Ejiofor, Rachel...</td>\n",
       "      <td>2016</td>\n",
       "      <td>115</td>\n",
       "      <td>7.6</td>\n",
       "      <td>293732</td>\n",
       "      <td>232.60</td>\n",
       "      <td>72.0</td>\n",
       "    </tr>\n",
       "    <tr>\n",
       "      <th>38</th>\n",
       "      <td>39</td>\n",
       "      <td>The Magnificent Seven</td>\n",
       "      <td>Action,Adventure,Western</td>\n",
       "      <td>Seven gunmen in the old west gradually come to...</td>\n",
       "      <td>Antoine Fuqua</td>\n",
       "      <td>Denzel Washington, Chris Pratt, Ethan Hawke,Vi...</td>\n",
       "      <td>2016</td>\n",
       "      <td>132</td>\n",
       "      <td>6.9</td>\n",
       "      <td>122853</td>\n",
       "      <td>93.38</td>\n",
       "      <td>54.0</td>\n",
       "    </tr>\n",
       "    <tr>\n",
       "      <th>39</th>\n",
       "      <td>40</td>\n",
       "      <td>5- 25- 77</td>\n",
       "      <td>Comedy,Drama</td>\n",
       "      <td>Alienated, hopeful-filmmaker Pat Johnson's epi...</td>\n",
       "      <td>Patrick Read Johnson</td>\n",
       "      <td>John Francis Daley, Austin Pendleton, Colleen ...</td>\n",
       "      <td>2007</td>\n",
       "      <td>113</td>\n",
       "      <td>7.1</td>\n",
       "      <td>241</td>\n",
       "      <td>NaN</td>\n",
       "      <td>NaN</td>\n",
       "    </tr>\n",
       "  </tbody>\n",
       "</table>\n",
       "</div>"
      ],
      "text/plain": [
       "    Rank                                    Title                       Genre  \\\n",
       "0      1                  Guardians of the Galaxy     Action,Adventure,Sci-Fi   \n",
       "1      2                               Prometheus    Adventure,Mystery,Sci-Fi   \n",
       "2      3                                    Split             Horror,Thriller   \n",
       "3      4                                     Sing     Animation,Comedy,Family   \n",
       "4      5                            Suicide Squad    Action,Adventure,Fantasy   \n",
       "5      6                           The Great Wall    Action,Adventure,Fantasy   \n",
       "6      7                               La La Land          Comedy,Drama,Music   \n",
       "7      8                                 Mindhorn                      Comedy   \n",
       "8      9                       The Lost City of Z  Action,Adventure,Biography   \n",
       "9     10                               Passengers     Adventure,Drama,Romance   \n",
       "10    11  Fantastic Beasts and Where to Find Them    Adventure,Family,Fantasy   \n",
       "11    12                           Hidden Figures     Biography,Drama,History   \n",
       "12    13                                Rogue One     Action,Adventure,Sci-Fi   \n",
       "13    14                                    Moana  Animation,Adventure,Comedy   \n",
       "14    15                                 Colossal         Action,Comedy,Drama   \n",
       "15    16                  The Secret Life of Pets  Animation,Adventure,Comedy   \n",
       "16    17                            Hacksaw Ridge     Biography,Drama,History   \n",
       "17    18                             Jason Bourne             Action,Thriller   \n",
       "18    19                                     Lion             Biography,Drama   \n",
       "19    20                                  Arrival        Drama,Mystery,Sci-Fi   \n",
       "20    21                                     Gold    Adventure,Drama,Thriller   \n",
       "21    22                    Manchester by the Sea                       Drama   \n",
       "22    23                           Hounds of Love          Crime,Drama,Horror   \n",
       "23    24                                   Trolls  Animation,Adventure,Comedy   \n",
       "24    25             Independence Day: Resurgence     Action,Adventure,Sci-Fi   \n",
       "25    26                          Paris pieds nus                      Comedy   \n",
       "26    27                  Bahubali: The Beginning      Action,Adventure,Drama   \n",
       "27    28                               Dead Awake             Horror,Thriller   \n",
       "28    29                                 Bad Moms                      Comedy   \n",
       "29    30                         Assassin's Creed      Action,Adventure,Drama   \n",
       "30    31                                 Why Him?                      Comedy   \n",
       "31    32                        Nocturnal Animals              Drama,Thriller   \n",
       "32    33                        X-Men: Apocalypse     Action,Adventure,Sci-Fi   \n",
       "33    34                                 Deadpool     Action,Adventure,Comedy   \n",
       "34    35         Resident Evil: The Final Chapter        Action,Horror,Sci-Fi   \n",
       "35    36               Captain America: Civil War     Action,Adventure,Sci-Fi   \n",
       "36    37                             Interstellar      Adventure,Drama,Sci-Fi   \n",
       "37    38                           Doctor Strange    Action,Adventure,Fantasy   \n",
       "38    39                    The Magnificent Seven    Action,Adventure,Western   \n",
       "39    40                                5- 25- 77                Comedy,Drama   \n",
       "\n",
       "                                          Description              Director  \\\n",
       "0   A group of intergalactic criminals are forced ...            James Gunn   \n",
       "1   Following clues to the origin of mankind, a te...          Ridley Scott   \n",
       "2   Three girls are kidnapped by a man with a diag...    M. Night Shyamalan   \n",
       "3   In a city of humanoid animals, a hustling thea...  Christophe Lourdelet   \n",
       "4   A secret government agency recruits some of th...            David Ayer   \n",
       "5   European mercenaries searching for black powde...           Yimou Zhang   \n",
       "6   A jazz pianist falls for an aspiring actress i...       Damien Chazelle   \n",
       "7   A has-been actor best known for playing the ti...            Sean Foley   \n",
       "8   A true-life drama, centering on British explor...            James Gray   \n",
       "9   A spacecraft traveling to a distant colony pla...         Morten Tyldum   \n",
       "10  The adventures of writer Newt Scamander in New...           David Yates   \n",
       "11  The story of a team of female African-American...        Theodore Melfi   \n",
       "12  The Rebel Alliance makes a risky move to steal...        Gareth Edwards   \n",
       "13  In Ancient Polynesia, when a terrible curse in...          Ron Clements   \n",
       "14  Gloria is an out-of-work party girl forced to ...       Nacho Vigalondo   \n",
       "15  The quiet life of a terrier named Max is upend...          Chris Renaud   \n",
       "16  WWII American Army Medic Desmond T. Doss, who ...            Mel Gibson   \n",
       "17  The CIA's most dangerous former operative is d...       Paul Greengrass   \n",
       "18  A five-year-old Indian boy gets lost on the st...           Garth Davis   \n",
       "19  When twelve mysterious spacecraft appear aroun...      Denis Villeneuve   \n",
       "20  Kenny Wells, a prospector desperate for a luck...        Stephen Gaghan   \n",
       "21  A depressed uncle is asked to take care of his...      Kenneth Lonergan   \n",
       "22  A cold-blooded predatory couple while cruising...             Ben Young   \n",
       "23  After the Bergens invade Troll Village, Poppy,...            Walt Dohrn   \n",
       "24  Two decades after the first Independence Day i...       Roland Emmerich   \n",
       "25  Fiona visits Paris for the first time to assis...        Dominique Abel   \n",
       "26  In ancient India, an adventurous and daring ma...        S.S. Rajamouli   \n",
       "27  A young woman must save herself and her friend...        Phillip Guzman   \n",
       "28  When three overworked and under-appreciated mo...             Jon Lucas   \n",
       "29  When Callum Lynch explores the memories of his...         Justin Kurzel   \n",
       "30  A holiday gathering threatens to go off the ra...          John Hamburg   \n",
       "31  A wealthy art gallery owner is haunted by her ...              Tom Ford   \n",
       "32  After the re-emergence of the world's first mu...          Bryan Singer   \n",
       "33  A fast-talking mercenary with a morbid sense o...            Tim Miller   \n",
       "34  Alice returns to where the nightmare began: Th...    Paul W.S. Anderson   \n",
       "35  Political interference in the Avengers' activi...         Anthony Russo   \n",
       "36  A team of explorers travel through a wormhole ...     Christopher Nolan   \n",
       "37  While on a journey of physical and spiritual h...      Scott Derrickson   \n",
       "38  Seven gunmen in the old west gradually come to...         Antoine Fuqua   \n",
       "39  Alienated, hopeful-filmmaker Pat Johnson's epi...  Patrick Read Johnson   \n",
       "\n",
       "                                               Actors  Year  \\\n",
       "0   Chris Pratt, Vin Diesel, Bradley Cooper, Zoe S...  2014   \n",
       "1   Noomi Rapace, Logan Marshall-Green, Michael Fa...  2012   \n",
       "2   James McAvoy, Anya Taylor-Joy, Haley Lu Richar...  2016   \n",
       "3   Matthew McConaughey,Reese Witherspoon, Seth Ma...  2016   \n",
       "4   Will Smith, Jared Leto, Margot Robbie, Viola D...  2016   \n",
       "5       Matt Damon, Tian Jing, Willem Dafoe, Andy Lau  2016   \n",
       "6   Ryan Gosling, Emma Stone, Rosemarie DeWitt, J....  2016   \n",
       "7   Essie Davis, Andrea Riseborough, Julian Barrat...  2016   \n",
       "8   Charlie Hunnam, Robert Pattinson, Sienna Mille...  2016   \n",
       "9   Jennifer Lawrence, Chris Pratt, Michael Sheen,...  2016   \n",
       "10  Eddie Redmayne, Katherine Waterston, Alison Su...  2016   \n",
       "11  Taraji P. Henson, Octavia Spencer, Janelle Mon...  2016   \n",
       "12  Felicity Jones, Diego Luna, Alan Tudyk, Donnie...  2016   \n",
       "13  Auli'i Cravalho, Dwayne Johnson, Rachel House,...  2016   \n",
       "14  Anne Hathaway, Jason Sudeikis, Austin Stowell,...  2016   \n",
       "15  Louis C.K., Eric Stonestreet, Kevin Hart, Lake...  2016   \n",
       "16  Andrew Garfield, Sam Worthington, Luke Bracey,...  2016   \n",
       "17  Matt Damon, Tommy Lee Jones, Alicia Vikander,V...  2016   \n",
       "18  Dev Patel, Nicole Kidman, Rooney Mara, Sunny P...  2016   \n",
       "19  Amy Adams, Jeremy Renner, Forest Whitaker,Mich...  2016   \n",
       "20  Matthew McConaughey, Edgar Ramírez, Bryce Dall...  2016   \n",
       "21  Casey Affleck, Michelle Williams, Kyle Chandle...  2016   \n",
       "22  Emma Booth, Ashleigh Cummings, Stephen Curry,S...  2016   \n",
       "23  Anna Kendrick, Justin Timberlake,Zooey Deschan...  2016   \n",
       "24  Liam Hemsworth, Jeff Goldblum, Bill Pullman,Ma...  2016   \n",
       "25  Fiona Gordon, Dominique Abel,Emmanuelle Riva, ...  2016   \n",
       "26  Prabhas, Rana Daggubati, Anushka Shetty,Tamann...  2015   \n",
       "27  Jocelin Donahue, Jesse Bradford, Jesse Borrego...  2016   \n",
       "28  Mila Kunis, Kathryn Hahn, Kristen Bell,Christi...  2016   \n",
       "29  Michael Fassbender, Marion Cotillard, Jeremy I...  2016   \n",
       "30  Zoey Deutch, James Franco, Tangie Ambrose,Cedr...  2016   \n",
       "31  Amy Adams, Jake Gyllenhaal, Michael Shannon, A...  2016   \n",
       "32  James McAvoy, Michael Fassbender, Jennifer Law...  2016   \n",
       "33  Ryan Reynolds, Morena Baccarin, T.J. Miller, E...  2016   \n",
       "34  Milla Jovovich, Iain Glen, Ali Larter, Shawn R...  2016   \n",
       "35  Chris Evans, Robert Downey Jr.,Scarlett Johans...  2016   \n",
       "36  Matthew McConaughey, Anne Hathaway, Jessica Ch...  2014   \n",
       "37  Benedict Cumberbatch, Chiwetel Ejiofor, Rachel...  2016   \n",
       "38  Denzel Washington, Chris Pratt, Ethan Hawke,Vi...  2016   \n",
       "39  John Francis Daley, Austin Pendleton, Colleen ...  2007   \n",
       "\n",
       "    Runtime (Minutes)  Rating    Votes  Revenue (Millions)  Metascore  \n",
       "0                 121     8.1   757074              333.13       76.0  \n",
       "1                 124     7.0   485820              126.46       65.0  \n",
       "2                 117     7.3   157606              138.12       62.0  \n",
       "3                 108     7.2    60545              270.32       59.0  \n",
       "4                 123     6.2   393727              325.02       40.0  \n",
       "5                 103     6.1    56036               45.13       42.0  \n",
       "6                 128     8.3   258682              151.06       93.0  \n",
       "7                  89     6.4     2490                 NaN       71.0  \n",
       "8                 141     7.1     7188                8.01       78.0  \n",
       "9                 116     7.0   192177              100.01       41.0  \n",
       "10                133     7.5   232072              234.02       66.0  \n",
       "11                127     7.8    93103              169.27       74.0  \n",
       "12                133     7.9   323118              532.17       65.0  \n",
       "13                107     7.7   118151              248.75       81.0  \n",
       "14                109     6.4     8612                2.87       70.0  \n",
       "15                 87     6.6   120259              368.31       61.0  \n",
       "16                139     8.2   211760               67.12       71.0  \n",
       "17                123     6.7   150823              162.16       58.0  \n",
       "18                118     8.1   102061               51.69       69.0  \n",
       "19                116     8.0   340798              100.50       81.0  \n",
       "20                120     6.7    19053                7.22       49.0  \n",
       "21                137     7.9   134213               47.70       96.0  \n",
       "22                108     6.7     1115                 NaN       72.0  \n",
       "23                 92     6.5    38552              153.69       56.0  \n",
       "24                120     5.3   127553              103.14       32.0  \n",
       "25                 83     6.8      222                 NaN        NaN  \n",
       "26                159     8.3    76193                6.50        NaN  \n",
       "27                 99     4.7      523                0.01        NaN  \n",
       "28                100     6.2    66540              113.08       60.0  \n",
       "29                115     5.9   112813               54.65       36.0  \n",
       "30                111     6.3    48123               60.31       39.0  \n",
       "31                116     7.5   126030               10.64       67.0  \n",
       "32                144     7.1   275510              155.33       52.0  \n",
       "33                108     8.0   627797              363.02       65.0  \n",
       "34                107     5.6    46165               26.84       49.0  \n",
       "35                147     7.9   411656              408.08       75.0  \n",
       "36                169     8.6  1047747              187.99       74.0  \n",
       "37                115     7.6   293732              232.60       72.0  \n",
       "38                132     6.9   122853               93.38       54.0  \n",
       "39                113     7.1      241                 NaN        NaN  "
      ]
     },
     "execution_count": 100,
     "metadata": {},
     "output_type": "execute_result"
    }
   ],
   "source": [
    "### START CODE HERE ###\n",
    "df = pd.read_csv(\"IMDB-Movie-Data.csv\")\n",
    "df.head(40)\n",
    "### END CODE HERE ###"
   ]
  },
  {
   "cell_type": "markdown",
   "metadata": {
    "id": "pgDvllsV51ur"
   },
   "source": [
    "## Actors/Actresses Activity\n",
    ">For each Actors/Actresses caculate the number of movies in the dataframe, then sort the actors/actresses first by their number of movies in descending order and then by their name in ascending order. "
   ]
  },
  {
   "cell_type": "code",
   "execution_count": 112,
   "metadata": {
    "id": "GfB9w9UO51ur"
   },
   "outputs": [
    {
     "name": "stdout",
     "output_type": "stream",
     "text": [
      "['Mark Wahlberg' 'Hugh Jackman' 'Brad Pitt' ... 'Logan Paul' 'Lori Petty'\n",
      " '50 Cent']\n",
      "['50 Cent' 'A.C. Peterson' 'AJ Michalka' ... 'Émilie Leclerc'\n",
      " 'Ólafur Darri Ólafsson' 'Óscar Jaenada']\n"
     ]
    }
   ],
   "source": [
    "### START CODE HERE ###\n",
    "actor_list = []\n",
    "for i in range(len(df.Actors)):\n",
    "    actor_list = actor_list+df.Actors[i].replace(\", \",\",\").split(\",\")\n",
    "actor_list = np.array(actor_list)\n",
    "actor_list = np.unique(actor_list)\n",
    "actor_no = np.zeros((len(actor_list)))\n",
    "for i in range(len(actor_list)):\n",
    "    actor_no[i] = len(df[df.Actors.str.find(actor_list[i]) != -1])\n",
    "sort_alphabet = np.argsort(actor_list)\n",
    "sort_number = np.flip(np.argsort(actor_no))\n",
    "sorted_actor_movies = actor_list[sort_number]\n",
    "sorted_actor_name = actor_list[sort_alphabet]\n",
    "print(sorted_actor_movies)\n",
    "print(sorted_actor_name)\n",
    "### END CODE HERE ###"
   ]
  },
  {
   "cell_type": "markdown",
   "metadata": {
    "id": "U8qu6f7d51ur"
   },
   "source": [
    "## Score Histogram\n",
    ">Draw the histogram of metascores and ratings. "
   ]
  },
  {
   "cell_type": "code",
   "execution_count": 122,
   "metadata": {
    "id": "JUf-Jl6T51ur"
   },
   "outputs": [
    {
     "data": {
      "text/plain": [
       "Text(0.5, 1.0, 'Metascores Histogram')"
      ]
     },
     "execution_count": 122,
     "metadata": {},
     "output_type": "execute_result"
    },
    {
     "data": {
      "image/png": "[encoded data removed]",
      "text/plain": [
       "<Figure size 640x480 with 1 Axes>"
      ]
     },
     "metadata": {},
     "output_type": "display_data"
    },
    {
     "data": {
      "image/png": "[encoded data removed]",
      "text/plain": [
       "<Figure size 640x480 with 1 Axes>"
      ]
     },
     "metadata": {},
     "output_type": "display_data"
    }
   ],
   "source": [
    "### START CODE HERE ###\n",
    "fig_1 = plt.figure(\"Figure 1\")\n",
    "df[\"Rating\"].plot.hist()\n",
    "plt.xlabel(\"Ratings\")\n",
    "plt.title(\"Ratings Histogram\")\n",
    "fig_2 = plt.figure(\"Figue 2\")\n",
    "df[\"Metascore\"].plot.hist()\n",
    "plt.xlabel(\"Metascore\")\n",
    "plt.title(\"Metascores Histogram\")\n",
    "### END CODE HERE ###"
   ]
  },
  {
   "cell_type": "markdown",
   "metadata": {
    "id": "_fD8olon51ur"
   },
   "source": [
    "## Correlations\n",
    ">Calculate the correlation between rating, votes and metascore of the movies.\n",
    "Is there any meaningful relation between these features? "
   ]
  },
  {
   "cell_type": "code",
   "execution_count": 124,
   "metadata": {
    "id": "4Llb2din51ur"
   },
   "outputs": [
    {
     "data": {
      "text/html": [
       "<div>\n",
       "<style scoped>\n",
       "    .dataframe tbody tr th:only-of-type {\n",
       "        vertical-align: middle;\n",
       "    }\n",
       "\n",
       "    .dataframe tbody tr th {\n",
       "        vertical-align: top;\n",
       "    }\n",
       "\n",
       "    .dataframe thead th {\n",
       "        text-align: right;\n",
       "    }\n",
       "</style>\n",
       "<table border=\"1\" class=\"dataframe\">\n",
       "  <thead>\n",
       "    <tr style=\"text-align: right;\">\n",
       "      <th></th>\n",
       "      <th>Rating</th>\n",
       "      <th>Votes</th>\n",
       "      <th>Metascore</th>\n",
       "    </tr>\n",
       "  </thead>\n",
       "  <tbody>\n",
       "    <tr>\n",
       "      <th>Rating</th>\n",
       "      <td>1.000000</td>\n",
       "      <td>0.511537</td>\n",
       "      <td>0.631897</td>\n",
       "    </tr>\n",
       "    <tr>\n",
       "      <th>Votes</th>\n",
       "      <td>0.511537</td>\n",
       "      <td>1.000000</td>\n",
       "      <td>0.325684</td>\n",
       "    </tr>\n",
       "    <tr>\n",
       "      <th>Metascore</th>\n",
       "      <td>0.631897</td>\n",
       "      <td>0.325684</td>\n",
       "      <td>1.000000</td>\n",
       "    </tr>\n",
       "  </tbody>\n",
       "</table>\n",
       "</div>"
      ],
      "text/plain": [
       "             Rating     Votes  Metascore\n",
       "Rating     1.000000  0.511537   0.631897\n",
       "Votes      0.511537  1.000000   0.325684\n",
       "Metascore  0.631897  0.325684   1.000000"
      ]
     },
     "execution_count": 124,
     "metadata": {},
     "output_type": "execute_result"
    }
   ],
   "source": [
    "### START CODE HERE ###\n",
    "df[[\"Rating\",\"Votes\",\"Metascore\"]].corr()\n",
    "### END CODE HERE ###"
   ]
  },
  {
   "cell_type": "markdown",
   "metadata": {},
   "source": [
    "> As you can see, the correaltion between ratings and metascore is more than the correlation of votes with these two variables and it makes sense since the number of voters for a movie doesn't show their interest and how they evaluate the movie. Of course, there's a better relationship between the votes and ratings since, the ratings are obtained from the votes where on the other hand, metascore is evaluated by the critics. But it's also good to note that the correaltions aren't that much which shows the poor relationship between these parameters with each other and hence the final answer would be no."
   ]
  },
  {
   "cell_type": "markdown",
   "metadata": {
    "id": "kLHzx8KW51ur"
   },
   "source": [
    "# Question 3"
   ]
  },
  {
   "cell_type": "markdown",
   "metadata": {
    "id": "xQMEJJVI51ur"
   },
   "source": [
    "## File\n",
    "> Craet a .txt file and name it \"Name_actors\". You must write the name of all actors/actresses in the IMDB-Movie-Data.csv file. Don't write a name multiple time and write each name in a new line."
   ]
  },
  {
   "cell_type": "code",
   "execution_count": 126,
   "metadata": {
    "id": "li8flG_251us"
   },
   "outputs": [],
   "source": [
    "### START CODE HERE ###\n",
    "f = open(\"Name_actors.txt\", \"w\")\n",
    "for i in range(len(actor_list)):\n",
    "    f.write(sorted_actor_name[i]+'\\n')\n",
    "f.close()\n",
    "### END CODE HERE ###"
   ]
  },
  {
   "cell_type": "markdown",
   "metadata": {
    "id": "oXpoTAa-51us"
   },
   "source": [
    "# Question 4"
   ]
  },
  {
   "cell_type": "markdown",
   "metadata": {
    "id": "-l8ephAz51us"
   },
   "source": [
    "## Plot\n",
    ">You must plot the number of movies in each year according to the IMDB-Movie-Data.csv file. X-axis is year and y-axis show the number of movies in each year.\n",
    "> set the x_label, y_label and title for your plot."
   ]
  },
  {
   "cell_type": "code",
   "execution_count": 143,
   "metadata": {
    "id": "pVgfjlk_51us"
   },
   "outputs": [
    {
     "name": "stdout",
     "output_type": "stream",
     "text": [
      "[2006 2007 2008 2009 2010 2011 2012 2013 2014 2015 2016]\n",
      "[ 44.  53.  52.  51.  60.  63.  64.  91.  98. 127. 297.]\n"
     ]
    },
    {
     "data": {
      "text/plain": [
       "Text(0.5, 1.0, 'Number of Movies per Year')"
      ]
     },
     "execution_count": 143,
     "metadata": {},
     "output_type": "execute_result"
    },
    {
     "data": {
      "image/png": "[encoded data removed]",
      "text/plain": [
       "<Figure size 1200x500 with 1 Axes>"
      ]
     },
     "metadata": {},
     "output_type": "display_data"
    }
   ],
   "source": [
    "### START CODE HERE ###\n",
    "year_list = df.Year.unique()\n",
    "year_list = np.sort(year_list)\n",
    "print(year_list)\n",
    "movies_per_year = np.zeros(len(year_list))\n",
    "for i in range(len(year_list)):\n",
    "    movies_per_year[i] = len(df.Year[df.Year == year_list[i]])\n",
    "print(movies_per_year)\n",
    "plt.figure(figsize=(12,5))\n",
    "plt.bar(year_list,movies_per_year)\n",
    "plt.xlabel(\"Year\")\n",
    "plt.ylabel(\"Number of Movies\")\n",
    "plt.title(\"Number of Movies per Year\")\n",
    "### END CODE HERE ###"
   ]
  },
  {
   "cell_type": "markdown",
   "metadata": {
    "id": "-xaIS92c51us"
   },
   "source": [
    "## Plot\n",
    ">You must plot the cos(x) curve. plot 20 cycle of the curve. the frequency of first half of curve is 50 Hz and frequency of second lalf is 200 Hz. \n",
    "> set the x_label, y_label and title for your plot."
   ]
  },
  {
   "cell_type": "code",
   "execution_count": 153,
   "metadata": {
    "id": "5VhGTsTw51us"
   },
   "outputs": [
    {
     "data": {
      "text/plain": [
       "Text(0.5, 1.0, 'cos(x) for two different frequencies')"
      ]
     },
     "execution_count": 153,
     "metadata": {},
     "output_type": "execute_result"
    },
    {
     "data": {
      "image/png": "[encoded data removed]",
      "text/plain": [
       "<Figure size 1000x800 with 1 Axes>"
      ]
     },
     "metadata": {},
     "output_type": "display_data"
    }
   ],
   "source": [
    "### START CODE HERE ###\n",
    "frequency_1 = 50\n",
    "frequency_2 = 200\n",
    "t1 = np.linspace(0,10*(1/frequency_1),1000)\n",
    "t2 = np.linspace(10*(1/frequency_1),10*(1/frequency_1)+10*(1/frequency_2),1000)\n",
    "y1 = np.cos(2*np.pi*frequency_1*t1)\n",
    "y2 = np.cos(2*np.pi*frequency_2*t2)\n",
    "t_final = np.concatenate((t1,t2))\n",
    "y_final = np.concatenate((y1,y2))\n",
    "plt.figure(figsize=(10,8))\n",
    "plt.plot(t_final,y_final)\n",
    "plt.grid()\n",
    "plt.xlabel(\"time(s)\")\n",
    "plt.ylabel(\"cos(t)\")\n",
    "plt.title(\"cos(x) for two different frequencies\")\n",
    "### END CODE HERE ###"
   ]
  }
 ],
 "metadata": {
  "colab": {
   "provenance": []
  },
  "interpreter": {
   "hash": "d8283cc4fef7fdfd79fce9ff4c59fb46bb636ce565bf5e011ed8cd98646ea4d5"
  },
  "kernelspec": {
   "display_name": "Python 3 (ipykernel)",
   "language": "python",
   "name": "python3"
  },
  "language_info": {
   "codemirror_mode": {
    "name": "ipython",
    "version": 3
   },
   "file_extension": ".py",
   "mimetype": "text/x-python",
   "name": "python",
   "nbconvert_exporter": "python",
   "pygments_lexer": "ipython3",
   "version": "3.7.3"
  }
 },
 "nbformat": 4,
 "nbformat_minor": 1
}
