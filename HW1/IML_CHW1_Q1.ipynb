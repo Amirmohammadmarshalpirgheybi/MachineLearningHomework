{
 "cells": [
  {
   "cell_type": "markdown",
   "metadata": {
    "id": "c7wdMyNNzf49"
   },
   "source": [
    "<h1 align=\"center\">An Introduction to Machine Learning - 25737</h1>\n",
    "<h4 align=\"center\">Dr. Sajjad Amini</h4>\n",
    "<h4 align=\"center\">Sharif University of Technology, Spring 2023</h4>\n",
    "\n",
    "# Problem Set 01\n",
    "\n",
    "Welcome to your first assignment. This exercise gives you a brief introduction to Python. \n",
    "\n",
    "\n"
   ]
  },
  {
   "cell_type": "markdown",
   "metadata": {
    "id": "Q-qsTRYU5ay5"
   },
   "source": [
    "STUDENT NAME:\n",
    "Amirmohammad Marshalpirgheybi\n",
    "STUDENT ID:\n",
    "98109815"
   ]
  },
  {
   "cell_type": "markdown",
   "metadata": {
    "id": "lyOsKSguzf5A"
   },
   "source": [
    "## About iPython Notebooks ##\n",
    "\n",
    "iPython Notebooks are interactive coding environments embedded in a webpage. You will be using iPython notebooks in this class. You only need to write code between the ### START CODE HERE ### and ### END CODE HERE ### comments. After writing your code, you can run the cell by either pressing \"SHIFT\"+\"ENTER\" or by clicking on \"Run Cell\" (denoted by a play symbol) in the upper bar of the notebook. \n",
    "\n",
    "**Exercise**: Set test to `\"Hello World\"` in the cell below to print \"Hello World\" and run the two cells below."
   ]
  },
  {
   "cell_type": "code",
   "execution_count": 20,
   "metadata": {
    "id": "cVMoOWUlzf5A"
   },
   "outputs": [
    {
     "name": "stdout",
     "output_type": "stream",
     "text": [
      "Hello World\n"
     ]
    }
   ],
   "source": [
    "### START CODE HERE ###\n",
    "test = \"Hello World\"\n",
    "print(test)\n",
    "### END CODE HERE ###"
   ]
  },
  {
   "cell_type": "markdown",
   "metadata": {
    "id": "mJZfkY87zf5B"
   },
   "source": [
    "<font color='blue'>\n",
    "**What you need to remember**:\n",
    "- Run your cells using SHIFT+ENTER (or \"Run cell\")\n",
    "- Write code in the designated areas using Python 3 only\n",
    "- Do not modify the code outside of the designated areas"
   ]
  },
  {
   "cell_type": "markdown",
   "metadata": {
    "id": "ZdmzMwNpzf5B"
   },
   "source": [
    "# 1.\n",
    ">What are the lengths of the following lists and strings below? Fill in the variable `lengths` with your predictions. (Try to make a prediction for each list *without* just calling `len()` on it.)"
   ]
  },
  {
   "cell_type": "code",
   "execution_count": 21,
   "metadata": {
    "id": "Yh3d2hZ4zf5C"
   },
   "outputs": [
    {
     "name": "stdout",
     "output_type": "stream",
     "text": [
      "[3, 2, 0, 2, 7, 0, 3, 1]\n"
     ]
    }
   ],
   "source": [
    "a = [1, 2, 3]\n",
    "b = [1, [2, 3]]\n",
    "c = []\n",
    "d = [1, 2, 3][1:]\n",
    "e = 'it\\'s ok'\n",
    "f = \"\"\n",
    "g = \"\"\"hey\"\"\"\n",
    "h = '\\n'\n",
    "\n",
    "# Put your predictions in the list below. Lengths should contain 8 numbers, the\n",
    "# first being the length of a, the second being the length of b and so on.\n",
    "### START CODE HERE ###\n",
    "lengths = [3, 2, 0, 2, 7, 0, 3, 1]\n",
    "print(lengths)\n",
    "### END CODE HERE ###"
   ]
  },
  {
   "cell_type": "markdown",
   "metadata": {
    "id": "dMxFzKopzf5C"
   },
   "source": [
    "# 2. \n",
    ">Swap the values to which a and b refer."
   ]
  },
  {
   "cell_type": "code",
   "execution_count": 22,
   "metadata": {
    "id": "HXlpbPVYzf5C"
   },
   "outputs": [
    {
     "name": "stdout",
     "output_type": "stream",
     "text": [
      "[3, 2, 1]\n",
      "[1, 2, 3]\n"
     ]
    }
   ],
   "source": [
    "a = [1, 2, 3]\n",
    "b = [3, 2, 1]\n",
    "\n",
    "### START CODE HERE ###\n",
    "c = a.copy()\n",
    "a = b.copy()\n",
    "b = c\n",
    "print(a)\n",
    "print(b)\n",
    "### END CODE HERE ###"
   ]
  },
  {
   "cell_type": "markdown",
   "metadata": {
    "id": "igr3m4pXzf5C"
   },
   "source": [
    "# 3. \n",
    ">Which of the two variables below has the smallest absolute value? Use Python's built-in functions."
   ]
  },
  {
   "cell_type": "code",
   "execution_count": 24,
   "metadata": {
    "id": "tAy0qBDezf5C"
   },
   "outputs": [
    {
     "name": "stdout",
     "output_type": "stream",
     "text": [
      "y has the smallest absolute value!\n"
     ]
    }
   ],
   "source": [
    "x = -10\n",
    "y = 5\n",
    "\n",
    "### START CODE HERE ###\n",
    "smallest_abs = min(abs(x), abs(y))\n",
    "if(abs(x) == smallest_abs):\n",
    "    print(\"x has the smallest absolute value!\")\n",
    "else:\n",
    "    print(\"y has the smallest absolute value!\")\n",
    "    \n",
    "### END CODE HERE ###"
   ]
  },
  {
   "cell_type": "markdown",
   "metadata": {
    "id": "-55kY-Cqzf5C"
   },
   "source": [
    "# 4. \n",
    "\n",
    "> A simple exercise! Run the cell below and try to explain the results for yourself:\n",
    "\n"
   ]
  },
  {
   "cell_type": "code",
   "execution_count": 35,
   "metadata": {
    "id": "_dpAa1Q4zf5D"
   },
   "outputs": [
    {
     "name": "stdout",
     "output_type": "stream",
     "text": [
      "1.0\n",
      "0.0\n",
      "1.0\n"
     ]
    }
   ],
   "source": [
    "print( 1.0 + 1.0 - 1.0 )\n",
    "print( 1.0 + 1.0e20 - 1.0e20 )\n",
    "print( 1.0e20 - 1.0e20 + 1 )"
   ]
  },
  {
   "cell_type": "markdown",
   "metadata": {},
   "source": [
    "# Answer:\n",
    " \n",
    "> The first one is pretty clear. The result is what we expected from 1+1-1 = 1. For the second one, since the first operation would be 1+1e20 and since the number are kept with specified precision, hence the result would be saved as 1e20 and then by the following subtraction, the result would be zero. Now, for the third one, since the first operation would be 1e20-1e20, the result would be 0 and then by addition of 1, the final answer would be 1."
   ]
  },
  {
   "cell_type": "markdown",
   "metadata": {
    "id": "3G2-lTfDzf5D"
   },
   "source": [
    "# 5.\n",
    ">Many programming languages have [`sign`](https://en.wikipedia.org/wiki/Sign_function) available as a built-in function. Python doesn't, but we can define our own! \n",
    "In the cell below, define a function called `sign` which takes a numerical argument and returns -1 if it's negative, 1 if it's positive, and 0 if it's 0."
   ]
  },
  {
   "cell_type": "code",
   "execution_count": 39,
   "metadata": {
    "id": "ASICcFwYzf5D"
   },
   "outputs": [
    {
     "name": "stdout",
     "output_type": "stream",
     "text": [
      "1\n",
      "-1\n",
      "0\n"
     ]
    }
   ],
   "source": [
    "def sign(x):\n",
    "    # (\"pass\" is a keyword that does literally nothing. We used it as a placeholder\n",
    "    # because after we begin a code block, Python requires at least one line of code)\n",
    "    ### START CODE HERE ###\n",
    "    if(x > 0):\n",
    "        return 1\n",
    "    elif(x == 0):\n",
    "        return 0\n",
    "    else:\n",
    "        return -1\n",
    "    ### END CODE HERE ###\n",
    "    pass\n",
    "\n",
    "# You can try different examples to check your function:\n",
    "print(sign(2))\n",
    "print(sign(-2))\n",
    "print(sign(0))"
   ]
  },
  {
   "cell_type": "markdown",
   "metadata": {
    "id": "6on-t1f0zf5D"
   },
   "source": [
    "# 6. \n",
    ">Complete the body of the following function according to its docstring.\n",
    "\n",
    "HINT: Python has a built-in function `round`."
   ]
  },
  {
   "cell_type": "code",
   "execution_count": 46,
   "metadata": {
    "id": "VINxi-ngzf5D"
   },
   "outputs": [
    {
     "data": {
      "text/plain": [
       "10.0"
      ]
     },
     "execution_count": 46,
     "metadata": {},
     "output_type": "execute_result"
    }
   ],
   "source": [
    "def round_to_two_places(num):\n",
    "    \"\"\"Return the given number rounded to two decimal places. \n",
    "    \n",
    "    >>> round_to_two_places(3.14159)\n",
    "    3.14\n",
    "    \"\"\"\n",
    "    ### START CODE HERE ###\n",
    "    return round(num, 2)\n",
    "    ### END CODE HERE ###\n",
    "    pass\n",
    "\n",
    "round_to_two_places(9.9999)"
   ]
  },
  {
   "cell_type": "markdown",
   "metadata": {
    "id": "5FtTkgU6zf5D"
   },
   "source": [
    "The help for `round` says that `ndigits` (the second argument) may be negative.\n",
    "What do you think will happen when it is? Try an example in the cell below."
   ]
  },
  {
   "cell_type": "code",
   "execution_count": 47,
   "metadata": {
    "id": "G6_vfswBzf5D"
   },
   "outputs": [
    {
     "data": {
      "text/plain": [
       "200.0"
      ]
     },
     "execution_count": 47,
     "metadata": {},
     "output_type": "execute_result"
    }
   ],
   "source": [
    "round(232.4243, -2)"
   ]
  },
  {
   "cell_type": "markdown",
   "metadata": {},
   "source": [
    "> It round the number up to the nearest 100. As you can see from above, the result is 200. "
   ]
  },
  {
   "cell_type": "markdown",
   "metadata": {
    "id": "i3sKJk1jzf5D"
   },
   "source": [
    "# 7.\n",
    "> Write a function that evaluates the polynomial $${3x^2 − x + 2}$$"
   ]
  },
  {
   "cell_type": "code",
   "execution_count": 48,
   "metadata": {
    "id": "cKy7RJVTzf5E"
   },
   "outputs": [],
   "source": [
    "def polynomial(x):\n",
    "    ### START CODE HERE ###\n",
    "    return 3*x**2-x+2\n",
    "    ### END CODE HERE ###\n",
    "    pass"
   ]
  },
  {
   "cell_type": "markdown",
   "metadata": {
    "id": "HI8Nje1Jzf5E"
   },
   "source": [
    "# 8.\n",
    ">Complete the function below according to its docstring."
   ]
  },
  {
   "cell_type": "code",
   "execution_count": 49,
   "metadata": {
    "id": "4pDj20lbzf5E"
   },
   "outputs": [],
   "source": [
    "def select_second(L):\n",
    "    \"\"\"Return the second element of the given list. If the list has no second\n",
    "    element, return None.\n",
    "    \"\"\"\n",
    "    ### START CODE HERE ###\n",
    "    if(len(L) >= 2):\n",
    "        return L[1]\n",
    "    else:\n",
    "        return None\n",
    "    ### END CODE HERE ###\n",
    "    pass"
   ]
  },
  {
   "cell_type": "markdown",
   "metadata": {
    "id": "uHty8trFzf5E"
   },
   "source": [
    "# 9.\n",
    ">We're using lists to record people who attended a class and what order they arrived in. For example, the following list represents a class with 7 students, in which 'Amirhossein' showed up first and 'Pedram' was the last to arrive:\n",
    "    \n",
    "> class_attendees = ['Amirhossein', 'Hadi', 'Fatemeh', 'Mahtab', 'Ali', 'Nasim', 'Pedram']\n",
    "\n",
    "> A student is considered 'fashionably late' if they arrived after at least half of the class's students. However, they must not be the very last student (that's taking it too far). In the above example, Ali and Nasim are the only students who were fashionably late.\n",
    "Complete the function below which takes a list of class attendees as well as a person, and tells us whether that person is fashionably late."
   ]
  },
  {
   "cell_type": "code",
   "execution_count": 23,
   "metadata": {
    "id": "8xOjqaTvzf5E"
   },
   "outputs": [],
   "source": [
    "def fashionably_late(arrivals, name):\n",
    "    \"\"\"Given an ordered list of arrivals to the class and a name, return whether the student with that\n",
    "    name was fashionably late.\n",
    "    \"\"\"\n",
    "    ### START CODE HERE ###\n",
    "    idx = arrivals.index(name)\n",
    "    if((idx+1) > round(len(arrivals)/2) and (idx+1) != len(arrivals)):\n",
    "        return True\n",
    "    else:\n",
    "        return False\n",
    "    ### END CODE HERE ###\n",
    "    pass"
   ]
  },
  {
   "cell_type": "code",
   "execution_count": 24,
   "metadata": {},
   "outputs": [
    {
     "data": {
      "text/plain": [
       "True"
      ]
     },
     "execution_count": 24,
     "metadata": {},
     "output_type": "execute_result"
    }
   ],
   "source": [
    "class_attendees = ['Amirhossein', 'Hadi', 'Fatemeh', 'Mahtab', 'Ali', 'Nasim', 'Pedram']\n",
    "fashionably_late(class_attendees,'Nasim')"
   ]
  },
  {
   "cell_type": "markdown",
   "metadata": {
    "id": "xYVP-8eWzf5E"
   },
   "source": [
    "# 10.\n",
    ">Complete the function below according to its docstring."
   ]
  },
  {
   "cell_type": "code",
   "execution_count": 27,
   "metadata": {
    "id": "HQ-mpu1zzf5E"
   },
   "outputs": [],
   "source": [
    "def has_lucky_number(nums):\n",
    "    \"\"\"Return whether the given list of numbers is lucky. A lucky list contains\n",
    "    at least one number divisible by 7.\n",
    "    \"\"\"\n",
    "    ### START CODE HERE ###\n",
    "    for i in range(len(nums)):\n",
    "        if(nums[i] % 7 == 0):\n",
    "            return True;\n",
    "    return False\n",
    "    \n",
    "    ### END CODE HERE ###\n",
    "    pass"
   ]
  },
  {
   "cell_type": "code",
   "execution_count": 32,
   "metadata": {},
   "outputs": [
    {
     "data": {
      "text/plain": [
       "True"
      ]
     },
     "execution_count": 32,
     "metadata": {},
     "output_type": "execute_result"
    }
   ],
   "source": [
    "list = [1,2,3,2,1,14,2]\n",
    "has_lucky_number(list)"
   ]
  },
  {
   "cell_type": "markdown",
   "metadata": {
    "id": "tp4MIqyozf5E"
   },
   "source": [
    "# 11.\n",
    "\n",
    ">Complete the body of the function below according to its docstring."
   ]
  },
  {
   "cell_type": "code",
   "execution_count": 33,
   "metadata": {
    "id": "28PSD7eKzf5F"
   },
   "outputs": [],
   "source": [
    "def menu_is_boring(meals):\n",
    "    \"\"\"Given a list of meals served over some period of time, return True if the\n",
    "    same meal has ever been served two days in a row, and False otherwise.\n",
    "    \"\"\"\n",
    "    ### START CODE HERE ###\n",
    "    for i in range(len(meals)-1):\n",
    "        if(meals[i] == meals[i+1]):\n",
    "            return True\n",
    "    return False\n",
    "    ### END CODE HERE ###\n",
    "    pass"
   ]
  },
  {
   "cell_type": "code",
   "execution_count": 36,
   "metadata": {},
   "outputs": [
    {
     "data": {
      "text/plain": [
       "True"
      ]
     },
     "execution_count": 36,
     "metadata": {},
     "output_type": "execute_result"
    }
   ],
   "source": [
    "meals = ['Ghrome', 'Pizza' , 'Pizza' , 'Sushi']\n",
    "menu_is_boring(meals)"
   ]
  },
  {
   "cell_type": "markdown",
   "metadata": {
    "id": "WxphNvtzzf5F"
   },
   "source": [
    "# 12.\n",
    "\n",
    "> There is a saying that \"Data scientists spend 80% of their time cleaning data, and 20% of their time complaining about cleaning data.\" Let's see if you can write a function to help clean US zip code data. Given a string, it should return whether or not that string represents a valid zip code. For our purposes, a valid zip code is any string consisting of exactly 5 digits.\n",
    "\n",
    "HINT: `str` has a method that will be useful here. Use `help(str)` to review a list of string methods."
   ]
  },
  {
   "cell_type": "code",
   "execution_count": 60,
   "metadata": {
    "id": "BPjuuKfXzf5F"
   },
   "outputs": [],
   "source": [
    "import re\n",
    "def is_valid_zip(zip_code):\n",
    "    \"\"\"Returns whether the input string is a valid (5 digit) zip code\n",
    "    \"\"\"\n",
    "    ### START CODE HERE ###\n",
    "    if(len(re.findall('[0-9]', zip_code)) == 5):\n",
    "        return True\n",
    "    else:\n",
    "        return False\n",
    "        \n",
    "    ### END CODE HERE ###\n",
    "    pass"
   ]
  },
  {
   "cell_type": "code",
   "execution_count": 65,
   "metadata": {},
   "outputs": [
    {
     "data": {
      "text/plain": [
       "True"
      ]
     },
     "execution_count": 65,
     "metadata": {},
     "output_type": "execute_result"
    }
   ],
   "source": [
    "str = '1234_ dfavcew 5'\n",
    "is_valid_zip(str)"
   ]
  },
  {
   "cell_type": "markdown",
   "metadata": {
    "id": "CAB_4WFczf5F"
   },
   "source": [
    "# 13.\n",
    ">Write a function my_max(x,y) that returns the maximum of x and y. \n",
    "\n",
    ">Do not use the max function, but use if instead in following two ways:\n",
    "\n",
    ">> (a) Use both if and else.\n",
    "\n",
    ">> (b) Use if but not else (nor elif)."
   ]
  },
  {
   "cell_type": "code",
   "execution_count": 48,
   "metadata": {
    "id": "EdxovDduzf5F"
   },
   "outputs": [],
   "source": [
    "def my_max_a(x,y):\n",
    "    ### START CODE HERE ###\n",
    "    if(x > y):\n",
    "        return x\n",
    "    else:\n",
    "        return y\n",
    "    ### END CODE HERE ###\n",
    "    pass"
   ]
  },
  {
   "cell_type": "code",
   "execution_count": 53,
   "metadata": {
    "id": "QbC8rsevzf5F"
   },
   "outputs": [],
   "source": [
    "def my_max_b(x,y):\n",
    "    ### START CODE HERE ###\n",
    "    if(x > y):\n",
    "        return x\n",
    "    return y\n",
    "    ### END CODE HERE ###\n",
    "    pass"
   ]
  },
  {
   "cell_type": "code",
   "execution_count": 57,
   "metadata": {},
   "outputs": [
    {
     "data": {
      "text/plain": [
       "10"
      ]
     },
     "execution_count": 57,
     "metadata": {},
     "output_type": "execute_result"
    }
   ],
   "source": [
    "x = 8\n",
    "y = 10\n",
    "my_max_b(x,y)"
   ]
  },
  {
   "cell_type": "markdown",
   "metadata": {
    "id": "SPGRkQKczf5F"
   },
   "source": [
    "# 14.  \n",
    "\n",
    "> Let i,j = 1,...,n\n",
    "\n",
    ">>(a) Generate a list with elements [i,j].\n",
    "\n",
    ">>(b) Generate a list with elements [i,j] with i < j\n",
    "\n",
    ">>(c) Generate a list with elements i + j with both i and j prime and i > j\n",
    "\n",
    "Use List comprehensions"
   ]
  },
  {
   "cell_type": "code",
   "execution_count": 85,
   "metadata": {
    "id": "6kEF2l-azf5F"
   },
   "outputs": [],
   "source": [
    "n = 5\n",
    "list_1 = []\n",
    "list_2 = []\n",
    "list_3 = []\n",
    "# a)\n",
    "### START CODE HERE ###\n",
    "for  i in range(1,n+1):\n",
    "    for j in range(1,n+1):\n",
    "        list_1.append([i,j])\n",
    "### END CODE HERE ###\n",
    "\n",
    "\n",
    "# b)\n",
    "### START CODE HERE ###\n",
    "for  i in range(1,n+1):\n",
    "    for j in range(1,n+1):\n",
    "        if(i < j):\n",
    "            list_2.append([i,j])\n",
    "### END CODE HERE ###\n",
    "\n",
    "\n",
    "# c)\n",
    "### START CODE HERE ###\n",
    "for  i in range(1,n+1):\n",
    "    for j in range(1,n+1):\n",
    "        if(i > j and sympy.isprime(i) and sympy.isprime(j)):\n",
    "            list_3.append(i+j)\n",
    "### END CODE HERE ###"
   ]
  },
  {
   "cell_type": "code",
   "execution_count": 88,
   "metadata": {},
   "outputs": [
    {
     "data": {
      "text/plain": [
       "[5, 7, 8]"
      ]
     },
     "execution_count": 88,
     "metadata": {},
     "output_type": "execute_result"
    }
   ],
   "source": [
    "list_3"
   ]
  },
  {
   "cell_type": "markdown",
   "metadata": {
    "id": "1Nt-b71ozf5F"
   },
   "source": [
    "# 15. \n",
    "\n",
    ">Complete the body of the function below according to its docstring."
   ]
  },
  {
   "cell_type": "code",
   "execution_count": 90,
   "metadata": {
    "id": "h7dJzbXgzf5F"
   },
   "outputs": [],
   "source": [
    "def my_func():\n",
    "    \"\"\"Write a function which will return a list contains all such numbers which are divisible by 7 but are not a multiple\n",
    "    of 5, between 2000 and 3200 (both included).\n",
    "    \"\"\"\n",
    "    ### START CODE HERE ###\n",
    "    out  = []\n",
    "    for i in range(2000,3200+1):\n",
    "        if(i % 7 == 0 and i % 5 != 0):\n",
    "            out.append(i)\n",
    "    return out\n",
    "    ### END CODE HERE ###\n",
    "    pass"
   ]
  },
  {
   "cell_type": "code",
   "execution_count": 92,
   "metadata": {},
   "outputs": [
    {
     "data": {
      "text/plain": [
       "[2002,\n",
       " 2009,\n",
       " 2016,\n",
       " 2023,\n",
       " 2037,\n",
       " 2044,\n",
       " 2051,\n",
       " 2058,\n",
       " 2072,\n",
       " 2079,\n",
       " 2086,\n",
       " 2093,\n",
       " 2107,\n",
       " 2114,\n",
       " 2121,\n",
       " 2128,\n",
       " 2142,\n",
       " 2149,\n",
       " 2156,\n",
       " 2163,\n",
       " 2177,\n",
       " 2184,\n",
       " 2191,\n",
       " 2198,\n",
       " 2212,\n",
       " 2219,\n",
       " 2226,\n",
       " 2233,\n",
       " 2247,\n",
       " 2254,\n",
       " 2261,\n",
       " 2268,\n",
       " 2282,\n",
       " 2289,\n",
       " 2296,\n",
       " 2303,\n",
       " 2317,\n",
       " 2324,\n",
       " 2331,\n",
       " 2338,\n",
       " 2352,\n",
       " 2359,\n",
       " 2366,\n",
       " 2373,\n",
       " 2387,\n",
       " 2394,\n",
       " 2401,\n",
       " 2408,\n",
       " 2422,\n",
       " 2429,\n",
       " 2436,\n",
       " 2443,\n",
       " 2457,\n",
       " 2464,\n",
       " 2471,\n",
       " 2478,\n",
       " 2492,\n",
       " 2499,\n",
       " 2506,\n",
       " 2513,\n",
       " 2527,\n",
       " 2534,\n",
       " 2541,\n",
       " 2548,\n",
       " 2562,\n",
       " 2569,\n",
       " 2576,\n",
       " 2583,\n",
       " 2597,\n",
       " 2604,\n",
       " 2611,\n",
       " 2618,\n",
       " 2632,\n",
       " 2639,\n",
       " 2646,\n",
       " 2653,\n",
       " 2667,\n",
       " 2674,\n",
       " 2681,\n",
       " 2688,\n",
       " 2702,\n",
       " 2709,\n",
       " 2716,\n",
       " 2723,\n",
       " 2737,\n",
       " 2744,\n",
       " 2751,\n",
       " 2758,\n",
       " 2772,\n",
       " 2779,\n",
       " 2786,\n",
       " 2793,\n",
       " 2807,\n",
       " 2814,\n",
       " 2821,\n",
       " 2828,\n",
       " 2842,\n",
       " 2849,\n",
       " 2856,\n",
       " 2863,\n",
       " 2877,\n",
       " 2884,\n",
       " 2891,\n",
       " 2898,\n",
       " 2912,\n",
       " 2919,\n",
       " 2926,\n",
       " 2933,\n",
       " 2947,\n",
       " 2954,\n",
       " 2961,\n",
       " 2968,\n",
       " 2982,\n",
       " 2989,\n",
       " 2996,\n",
       " 3003,\n",
       " 3017,\n",
       " 3024,\n",
       " 3031,\n",
       " 3038,\n",
       " 3052,\n",
       " 3059,\n",
       " 3066,\n",
       " 3073,\n",
       " 3087,\n",
       " 3094,\n",
       " 3101,\n",
       " 3108,\n",
       " 3122,\n",
       " 3129,\n",
       " 3136,\n",
       " 3143,\n",
       " 3157,\n",
       " 3164,\n",
       " 3171,\n",
       " 3178,\n",
       " 3192,\n",
       " 3199]"
      ]
     },
     "execution_count": 92,
     "metadata": {},
     "output_type": "execute_result"
    }
   ],
   "source": [
    "my_func()"
   ]
  },
  {
   "cell_type": "markdown",
   "metadata": {
    "id": "4hCkNduIzf5F"
   },
   "source": [
    "# 16.\n",
    "\n",
    ">Write a program that accepts a sentence and calculate the number of letters and digits.\n",
    "Suppose the following input is supplied to the program:\n",
    "\n",
    "        hello world! 123\n",
    ">Then, the output should be:\n",
    "\n",
    ">>LETTERS 10\n",
    "\n",
    ">>DIGITS 3"
   ]
  },
  {
   "cell_type": "code",
   "execution_count": 95,
   "metadata": {
    "id": "zCF3Jcxrzf5G"
   },
   "outputs": [
    {
     "name": "stdout",
     "output_type": "stream",
     "text": [
      "Enter a sentence: hello world! 123\n",
      "LETTERS 10\n",
      "\n",
      "DIGITS 3\n",
      "\n"
     ]
    }
   ],
   "source": [
    "### START CODE HERE ###\n",
    "import re\n",
    "string = input(\"Enter a sentence: \")\n",
    "digits = re.findall('[0-9]',string)\n",
    "letters = re.findall('[a-zA-Z]',string)\n",
    "print(f'LETTERS {len(letters)}\\n')\n",
    "print(f'DIGITS {len(digits)}\\n')\n",
    "\n",
    "### END CODE HERE ###"
   ]
  },
  {
   "cell_type": "markdown",
   "metadata": {
    "id": "SrFe49A3zf5G"
   },
   "source": [
    "# 17.\n",
    "Write a function to sort a list of tuples (name, age, height) by ascending order\n",
    "where name is string, age and height are numbers. The sort\n",
    "criteria is:\n",
    "\n",
    "* 1: Sort based on name;\n",
    "* 2: Then sort based on age;\n",
    "* 3: Then sort by score.\n",
    "\n",
    "The priority is that name > age > score.\n",
    "If the following list is given as input to the function:\n",
    ">[('Taha',19,80), ('Farhad',20,90), ('Farrokh',17,91), ('Farrokh',17,93), ('Fatemeh',21,85)]\n",
    "\n",
    "Then, the output of the program should be:\n",
    ">[('Farhad', '20', '90'), ('Farrokh', '17', '91'), ('Farrokh', '17', '93'), ('Fatemeh', '21', '85'), ('Taha', '19', '80')]"
   ]
  },
  {
   "cell_type": "code",
   "execution_count": 126,
   "metadata": {
    "id": "ovUPqq9Tzf5G"
   },
   "outputs": [],
   "source": [
    "def sortTuple(inputList):\n",
    "    ### START CODE HERE ###   \n",
    "    return sorted(inputList)\n",
    "    ### END CODE HERE ###\n",
    "    pass"
   ]
  },
  {
   "cell_type": "code",
   "execution_count": 127,
   "metadata": {},
   "outputs": [
    {
     "data": {
      "text/plain": [
       "[('Farhad', '20', '90'),\n",
       " ('Farrokh', '17', '91'),\n",
       " ('Farrokh', '17', '93'),\n",
       " ('Fatemeh', '21', '85'),\n",
       " ('Taha', '19', '80')]"
      ]
     },
     "execution_count": 127,
     "metadata": {},
     "output_type": "execute_result"
    }
   ],
   "source": [
    "list = [('Farhad', '20', '90'), ('Farrokh', '17', '91'), ('Farrokh', '17', '93'), ('Fatemeh', '21', '85'), ('Taha', '19', '80')]\n",
    "sortTuple(list)"
   ]
  }
 ],
 "metadata": {
  "colab": {
   "provenance": []
  },
  "kernelspec": {
   "display_name": "Python 3 (ipykernel)",
   "language": "python",
   "name": "python3"
  },
  "language_info": {
   "codemirror_mode": {
    "name": "ipython",
    "version": 3
   },
   "file_extension": ".py",
   "mimetype": "text/x-python",
   "name": "python",
   "nbconvert_exporter": "python",
   "pygments_lexer": "ipython3",
   "version": "3.7.3"
  }
 },
 "nbformat": 4,
 "nbformat_minor": 1
}
